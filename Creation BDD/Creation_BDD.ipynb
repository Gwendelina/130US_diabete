{
 "cells": [
  {
   "cell_type": "code",
   "execution_count": 3,
   "id": "eecc08df",
   "metadata": {},
   "outputs": [],
   "source": [
    "import sqlite3\n",
    "from sqlite3 import connect\n",
    "\n",
    "import pandas as pd"
   ]
  },
  {
   "cell_type": "code",
   "execution_count": 4,
   "id": "d93c11ec",
   "metadata": {},
   "outputs": [
    {
     "name": "stdout",
     "output_type": "stream",
     "text": [
      "connexion ok\n"
     ]
    }
   ],
   "source": [
    "# Connexion à la db\n",
    "\n",
    "# def connexion_db(file_name =\"\"):\n",
    "#     try:\n",
    "#         conn = sqlite3.connect(f\"{file_name}\")\n",
    "#         curs = conn.cursor()\n",
    "#         print(\"connexion ok\")\n",
    "#     except:\n",
    "#         print(\"no db connexion\")\n",
    "#     return conn, curs\n",
    "\n",
    "# file_name = \"130US_diabete_BDD.sqlite3\"\n",
    "# connexion_db(file_name)\n",
    "\n",
    "try:\n",
    "    conn = sqlite3.connect(\"130US_diabete_BDD.sqlite3\")\n",
    "    curs = conn.cursor()\n",
    "    print(\"connexion ok\")\n",
    "except:\n",
    "    print(\"no db connexion\")"
   ]
  },
  {
   "cell_type": "code",
   "execution_count": 6,
   "id": "a3b2a3cd",
   "metadata": {},
   "outputs": [],
   "source": [
    "# Création des tables\n",
    "\n",
    "##########\n",
    "# Faire une fonction\n",
    "##########\n",
    "\n",
    "# conn, curs = connexion_db(file_name)\n",
    "\n",
    "\n",
    "with conn: \n",
    "    conn.execute(\"\"\"CREATE TABLE IF NOT EXISTS patients (\n",
    "        id INTEGER PRIMARY KEY AUTOINCREMENT,\n",
    "        race VARCHAR,\n",
    "        gender VARCHAR,\n",
    "        age INTEGER,\n",
    "        weight INTEGER,\n",
    "        payer_code VARCHAR,\n",
    "        number_outpatient INTEGER,\n",
    "        number_emergency INTEGER,\n",
    "        number_inpatient INTEGER,\n",
    "        created_at CURRENT_TIMESTAMP,\n",
    "        updated_at CURRENT_TIMESTAMP\n",
    "    );\"\"\")\n",
    "    \n",
    "\n",
    "with conn: #TEAMS OK\n",
    "    conn.execute(\"\"\"CREATE TABLE IF NOT EXISTS medecins (\n",
    "        id INTEGER PRIMARY KEY AUTOINCREMENT,\n",
    "        created_at CURRENT_TIMESTAMP,\n",
    "        updated_at CURRENT_TIMESTAMP\n",
    "    );\"\"\")\n",
    "\n",
    "# with connexion :     \n",
    "#  CREATE TABLE patients (\n",
    "#     id integer PRIMARY KEY AUTOINCREMENT,\n",
    "#     race varchar,\n",
    "#     gender varchar,\n",
    "#     age integer,\n",
    "#     weight integer,\n",
    "#     payer_code varchar,\n",
    "#     number_outpatient integer,\n",
    "#     number_emergency integer,\n",
    "#     number_inpatient integer,\n",
    "#     created_at timestamp,\n",
    "#     updated_at timestamp\n",
    "# );\n",
    "\n"
   ]
  },
  {
   "cell_type": "code",
   "execution_count": 12,
   "id": "addb0a68",
   "metadata": {},
   "outputs": [
    {
     "ename": "AttributeError",
     "evalue": "module 'sqlite3' has no attribute 'tables'",
     "output_type": "error",
     "traceback": [
      "\u001b[1;31m---------------------------------------------------------------------------\u001b[0m",
      "\u001b[1;31mAttributeError\u001b[0m                            Traceback (most recent call last)",
      "Input \u001b[1;32mIn [12]\u001b[0m, in \u001b[0;36m<cell line: 2>\u001b[1;34m()\u001b[0m\n\u001b[0;32m      1\u001b[0m sqlite3\n\u001b[1;32m----> 2\u001b[0m \u001b[43msqlite3\u001b[49m\u001b[38;5;241;43m.\u001b[39;49m\u001b[43mtables\u001b[49m\n",
      "\u001b[1;31mAttributeError\u001b[0m: module 'sqlite3' has no attribute 'tables'"
     ]
    }
   ],
   "source": [
    "sqlite3\n",
    "sqlite3.tables"
   ]
  }
 ],
 "metadata": {
  "kernelspec": {
   "display_name": "Python 3 (ipykernel)",
   "language": "python",
   "name": "python3"
  },
  "language_info": {
   "codemirror_mode": {
    "name": "ipython",
    "version": 3
   },
   "file_extension": ".py",
   "mimetype": "text/x-python",
   "name": "python",
   "nbconvert_exporter": "python",
   "pygments_lexer": "ipython3",
   "version": "3.9.12"
  },
  "latex_envs": {
   "LaTeX_envs_menu_present": true,
   "autoclose": false,
   "autocomplete": true,
   "bibliofile": "biblio.bib",
   "cite_by": "apalike",
   "current_citInitial": 1,
   "eqLabelWithNumbers": true,
   "eqNumInitial": 1,
   "hotkeys": {
    "equation": "Ctrl-E",
    "itemize": "Ctrl-I"
   },
   "labels_anchors": false,
   "latex_user_defs": false,
   "report_style_numbering": false,
   "user_envs_cfg": false
  },
  "toc": {
   "base_numbering": 1,
   "nav_menu": {},
   "number_sections": true,
   "sideBar": true,
   "skip_h1_title": false,
   "title_cell": "Table of Contents",
   "title_sidebar": "Contents",
   "toc_cell": false,
   "toc_position": {
    "height": "calc(100% - 180px)",
    "left": "10px",
    "top": "150px",
    "width": "426.667px"
   },
   "toc_section_display": true,
   "toc_window_display": true
  },
  "varInspector": {
   "cols": {
    "lenName": 16,
    "lenType": 16,
    "lenVar": 40
   },
   "kernels_config": {
    "python": {
     "delete_cmd_postfix": "",
     "delete_cmd_prefix": "del ",
     "library": "var_list.py",
     "varRefreshCmd": "print(var_dic_list())"
    },
    "r": {
     "delete_cmd_postfix": ") ",
     "delete_cmd_prefix": "rm(",
     "library": "var_list.r",
     "varRefreshCmd": "cat(var_dic_list()) "
    }
   },
   "types_to_exclude": [
    "module",
    "function",
    "builtin_function_or_method",
    "instance",
    "_Feature"
   ],
   "window_display": false
  }
 },
 "nbformat": 4,
 "nbformat_minor": 5
}
